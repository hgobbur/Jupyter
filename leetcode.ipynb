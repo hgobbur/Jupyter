{
 "cells": [
  {
   "cell_type": "code",
   "execution_count": 12,
   "id": "979dea53-7848-42d3-8a1e-359715ecfcac",
   "metadata": {},
   "outputs": [
    {
     "name": "stdout",
     "output_type": "stream",
     "text": [
      "4\n",
      "5\n"
     ]
    }
   ],
   "source": [
    "def len_of_last_word(s):\n",
    "    counter = 0\n",
    "    started = False\n",
    "    for ch in s[::-1]:\n",
    "        if ch != ' ':\n",
    "            counter += 1\n",
    "            started = True\n",
    "        elif started:\n",
    "            break\n",
    "    \n",
    "    return counter\n",
    "\n",
    "print(len_of_last_word('bruh cool '))\n",
    "print(len_of_last_word('hello '))"
   ]
  },
  {
   "cell_type": "code",
   "execution_count": 14,
   "id": "13c42fc9-73ec-4dd4-b369-a5e2a2a1a88f",
   "metadata": {},
   "outputs": [
    {
     "name": "stdout",
     "output_type": "stream",
     "text": [
      "4\n"
     ]
    }
   ],
   "source": [
    "def len_of_last_word_new(s):\n",
    "    counter = 0\n",
    "    i = len(s) - 1\n",
    "    while i >= 0 and s[i] == ' ':\n",
    "        i -= 1\n",
    "    while i >= 0 and s[i] != ' ':\n",
    "        counter += 1\n",
    "        i -= 1\n",
    "\n",
    "    return counter\n",
    "\n",
    "print(len_of_last_word_new('bruh cool '))"
   ]
  },
  {
   "cell_type": "code",
   "execution_count": 17,
   "id": "fb158309-b511-485c-a755-a1ef4a65f0c4",
   "metadata": {},
   "outputs": [
    {
     "name": "stdout",
     "output_type": "stream",
     "text": [
      "35427\n",
      "No odd number exists\n",
      "5\n"
     ]
    }
   ],
   "source": [
    "def largest_odd_num(num):\n",
    "    for i in range(len(num)-1, -1, -1):\n",
    "        if int(num[i]) % 2 == 1:\n",
    "            return num[:i+1]\n",
    "    \n",
    "    return 'No odd number exists'\n",
    "\n",
    "print(largest_odd_num('35427'))\n",
    "print(largest_odd_num('266666'))\n",
    "print(largest_odd_num('52'))"
   ]
  },
  {
   "cell_type": "code",
   "execution_count": 2,
   "id": "6048af2a-758e-485c-ae62-455a14e20ade",
   "metadata": {},
   "outputs": [
    {
     "name": "stdout",
     "output_type": "stream",
     "text": [
      "3\n",
      "3\n"
     ]
    }
   ],
   "source": [
    "def maxDepth(s):\n",
    "    depth = 0\n",
    "    max_depth = 0\n",
    "\n",
    "    for ch in s:\n",
    "        if ch == '(':\n",
    "            depth += 1\n",
    "            if depth > max_depth:\n",
    "                max_depth = depth\n",
    "        elif ch == ')':\n",
    "            depth -= 1\n",
    "            \n",
    "    return max_depth\n",
    "\n",
    "print(maxDepth(\"(1+(2*3)+((8)/4))+1\"))\n",
    "print(maxDepth(\"(1)+((2))+(((3)))\"))"
   ]
  },
  {
   "cell_type": "code",
   "execution_count": 3,
   "id": "3cbd5d6d-3dfa-4a49-8015-9aefa6ece5fd",
   "metadata": {},
   "outputs": [
    {
     "name": "stdout",
     "output_type": "stream",
     "text": [
      "4\n",
      "6\n"
     ]
    }
   ],
   "source": [
    "def maxFreqSum(s):\n",
    "    freq_vow = {}\n",
    "    freq_const= {}\n",
    "    vowel = 'aeiou'\n",
    "\n",
    "    for ch in s:\n",
    "        if ch in vowel:\n",
    "            freq_vow[ch] = freq_vow.get(ch, 0) + 1\n",
    "        else:\n",
    "            freq_const[ch] = freq_const.get(ch, 0) + 1\n",
    "\n",
    "    if freq_vow:\n",
    "        max_vow = max(freq_vow.values())\n",
    "    else:\n",
    "        max_vow = 0\n",
    "\n",
    "    if freq_const:\n",
    "        max_const = max(freq_const.values())\n",
    "    else:\n",
    "        max_const = 0\n",
    "        \n",
    "    max_freq_sum = max_vow + max_const\n",
    "\n",
    "    return max_freq_sum\n",
    "\n",
    "print(maxFreqSum('aeeeiiii'))\n",
    "print(maxFreqSum('successes'))"
   ]
  },
  {
   "cell_type": "code",
   "execution_count": 4,
   "id": "0f16940b-c8e6-49bc-8644-16b0c44fea3b",
   "metadata": {},
   "outputs": [
    {
     "name": "stdout",
     "output_type": "stream",
     "text": [
      "[-1, 3, -1]\n",
      "[3, -1]\n"
     ]
    }
   ],
   "source": [
    "def nextGreaterElement(nums1, nums2):\n",
    "    ans = []\n",
    "\n",
    "    for i in range(len(nums1)):\n",
    "        if nums1[i] in nums2:\n",
    "            ref = nums1[i]\n",
    "            found = False\n",
    "            for j in range(nums2.index(ref) + 1, len(nums2)):\n",
    "                if nums2[j] > ref:\n",
    "                    ans.append(nums2[j])\n",
    "                    found = True\n",
    "                    break\n",
    "            if not found:\n",
    "                ans.append(-1)\n",
    "\n",
    "    return ans\n",
    "\n",
    "print(nextGreaterElement([4,1,2], [1,3,4,2]))\n",
    "print(nextGreaterElement([2,4], [1,2,3,4]))"
   ]
  },
  {
   "cell_type": "code",
   "execution_count": 26,
   "id": "f5285a28-e24e-4ba0-b8b7-498c4d604523",
   "metadata": {},
   "outputs": [
    {
     "name": "stdout",
     "output_type": "stream",
     "text": [
      "2\n"
     ]
    }
   ],
   "source": [
    "def consistentStr(allowed, words):\n",
    "    valid = 0\n",
    "\n",
    "    for word in words:\n",
    "        consistent = True\n",
    "        for ch in word:\n",
    "            if ch not in allowed:\n",
    "                consistent = False\n",
    "                break\n",
    "        if consistent:\n",
    "            valid += 1\n",
    "\n",
    "    return valid\n",
    "\n",
    "print(consistentStr('ab', ['ad', 'bd', 'aaab', 'baa', 'badab']))"
   ]
  }
 ],
 "metadata": {
  "kernelspec": {
   "display_name": "Python [conda env:base] *",
   "language": "python",
   "name": "conda-base-py"
  },
  "language_info": {
   "codemirror_mode": {
    "name": "ipython",
    "version": 3
   },
   "file_extension": ".py",
   "mimetype": "text/x-python",
   "name": "python",
   "nbconvert_exporter": "python",
   "pygments_lexer": "ipython3",
   "version": "3.13.5"
  }
 },
 "nbformat": 4,
 "nbformat_minor": 5
}
