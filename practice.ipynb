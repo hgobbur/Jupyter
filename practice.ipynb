{
 "cells": [
  {
   "cell_type": "code",
   "execution_count": 1,
   "id": "4f7d97d0-c777-4883-86ff-4bcab5ff903c",
   "metadata": {},
   "outputs": [
    {
     "name": "stdin",
     "output_type": "stream",
     "text": [
      "Enter a value :  5\n"
     ]
    },
    {
     "name": "stdout",
     "output_type": "stream",
     "text": [
      "0\n",
      "1\n",
      "2\n",
      "3\n",
      "4\n"
     ]
    }
   ],
   "source": [
    "n = input('Enter a value : ')\n",
    "n = int(n)\n",
    "for num in range(n) : \n",
    "    print(num)"
   ]
  },
  {
   "cell_type": "code",
   "execution_count": 2,
   "id": "168753c9-bd64-41a3-9bb2-40a8fd0b6cfe",
   "metadata": {},
   "outputs": [
    {
     "name": "stdin",
     "output_type": "stream",
     "text": [
      "Enter value for computing sum factorial :  5\n"
     ]
    },
    {
     "name": "stdout",
     "output_type": "stream",
     "text": [
      "Before : 0 + 1\n",
      "After : 1\n",
      "Before : 1 + 2\n",
      "After : 3\n",
      "Before : 3 + 3\n",
      "After : 6\n",
      "Before : 6 + 4\n",
      "After : 10\n",
      "Before : 10 + 5\n",
      "After : 15\n",
      "The final value is : 15\n"
     ]
    }
   ],
   "source": [
    "# ascending sum factorial\n",
    "sum = 0\n",
    "n = int(input('Enter value for computing sum factorial : '))\n",
    "for num in range(1,n+1) :\n",
    "    print('Before :', sum, '+', num)\n",
    "    sum += num\n",
    "    print('After :', sum)\n",
    "print('The final value is :', sum)"
   ]
  },
  {
   "cell_type": "code",
   "execution_count": 3,
   "id": "19cbfd84-2b27-4290-a7e5-433065f21bd9",
   "metadata": {},
   "outputs": [
    {
     "name": "stdout",
     "output_type": "stream",
     "text": [
      "0\n",
      "1\n",
      "2\n",
      "3\n",
      "4\n"
     ]
    }
   ],
   "source": [
    "x = 0\n",
    "while x < 5 :\n",
    "    print(x)\n",
    "    x += 1"
   ]
  },
  {
   "cell_type": "code",
   "execution_count": 4,
   "id": "c6e323a8-3947-4b1d-9f02-d2c9c0f133e8",
   "metadata": {},
   "outputs": [
    {
     "name": "stdin",
     "output_type": "stream",
     "text": [
      "Enter value for computing factorial : 5\n"
     ]
    },
    {
     "name": "stdout",
     "output_type": "stream",
     "text": [
      "Before : 1 * 1\n",
      "After : 1\n",
      "Before : 1 * 2\n",
      "After : 2\n",
      "Before : 2 * 3\n",
      "After : 6\n",
      "Before : 6 * 4\n",
      "After : 24\n",
      "Before : 24 * 5\n",
      "After : 120\n",
      "The final value is : 120\n"
     ]
    }
   ],
   "source": [
    "# descending factorial\n",
    "prod = 1\n",
    "count = 1\n",
    "n = int(input('Enter value for computing factorial :'))\n",
    "while count <= n :\n",
    "    print('Before :', prod, '*', count)\n",
    "    prod *= count\n",
    "    print('After :', prod)\n",
    "    count += 1\n",
    "print('The final value is :', prod)"
   ]
  },
  {
   "cell_type": "code",
   "execution_count": 5,
   "id": "9924b291-33e7-43e9-b30b-32c001cbf216",
   "metadata": {},
   "outputs": [
    {
     "name": "stdout",
     "output_type": "stream",
     "text": [
      "I is 1\n",
      "   j = 1\n",
      "   j = 2\n",
      "   j = 3\n",
      "I is 2\n",
      "   j = 1\n",
      "   j = 2\n",
      "   j = 3\n",
      "I is 3\n",
      "   j = 1\n",
      "   j = 2\n",
      "   j = 3\n"
     ]
    }
   ],
   "source": [
    "for i in range(1,4) :\n",
    "    print('I is', i)\n",
    "    for j in range(1,4) :\n",
    "        print('   j =', j)"
   ]
  },
  {
   "cell_type": "code",
   "execution_count": 6,
   "id": "67c26110-0200-4311-bd12-5a65d9b0bd75",
   "metadata": {},
   "outputs": [
    {
     "name": "stdout",
     "output_type": "stream",
     "text": [
      "hello world\tHIIIIIII\n"
     ]
    }
   ],
   "source": [
    "print('hello world', end = '\\t')\n",
    "print('HIIIIIII')"
   ]
  },
  {
   "cell_type": "code",
   "execution_count": 7,
   "id": "c88ab025-fb6e-4ecb-98ec-bf27110bcc83",
   "metadata": {},
   "outputs": [
    {
     "name": "stdout",
     "output_type": "stream",
     "text": [
      "10x10 Multiplication Table\n",
      "--------------------------\n",
      "1*1=1\t1*2=2\t1*3=3\t1*4=4\t1*5=5\t1*6=6\t1*7=7\t1*8=8\t1*9=9\t1*10=10\t\n",
      "2*1=2\t2*2=4\t2*3=6\t2*4=8\t2*5=10\t2*6=12\t2*7=14\t2*8=16\t2*9=18\t2*10=20\t\n",
      "3*1=3\t3*2=6\t3*3=9\t3*4=12\t3*5=15\t3*6=18\t3*7=21\t3*8=24\t3*9=27\t3*10=30\t\n",
      "4*1=4\t4*2=8\t4*3=12\t4*4=16\t4*5=20\t4*6=24\t4*7=28\t4*8=32\t4*9=36\t4*10=40\t\n",
      "5*1=5\t5*2=10\t5*3=15\t5*4=20\t5*5=25\t5*6=30\t5*7=35\t5*8=40\t5*9=45\t5*10=50\t\n",
      "6*1=6\t6*2=12\t6*3=18\t6*4=24\t6*5=30\t6*6=36\t6*7=42\t6*8=48\t6*9=54\t6*10=60\t\n",
      "7*1=7\t7*2=14\t7*3=21\t7*4=28\t7*5=35\t7*6=42\t7*7=49\t7*8=56\t7*9=63\t7*10=70\t\n",
      "8*1=8\t8*2=16\t8*3=24\t8*4=32\t8*5=40\t8*6=48\t8*7=56\t8*8=64\t8*9=72\t8*10=80\t\n",
      "9*1=9\t9*2=18\t9*3=27\t9*4=36\t9*5=45\t9*6=54\t9*7=63\t9*8=72\t9*9=81\t9*10=90\t\n",
      "10*1=10\t10*2=20\t10*3=30\t10*4=40\t10*5=50\t10*6=60\t10*7=70\t10*8=80\t10*9=90\t10*10=100\t\n"
     ]
    }
   ],
   "source": [
    "print(\"10x10 Multiplication Table\")\n",
    "print('--------------------------')\n",
    "for i in range(1,11) :\n",
    "    for j in range(1,11) :\n",
    "        print(f'{i}*{j}={i*j}', end = '\\t')\n",
    "    print()"
   ]
  },
  {
   "cell_type": "code",
   "execution_count": 26,
   "id": "7ad5f623-033f-4bb3-b201-9a527e17f4f5",
   "metadata": {},
   "outputs": [
    {
     "name": "stdin",
     "output_type": "stream",
     "text": [
      "What is your favorite number? : 234235\n"
     ]
    },
    {
     "name": "stdout",
     "output_type": "stream",
     "text": [
      "When multiplied by 5 : 1171175\n"
     ]
    }
   ],
   "source": [
    "fav_num = int(input('What is your favorite number? :'))\n",
    "print(f'When multiplied by 5 : {fav_num * 5}')"
   ]
  },
  {
   "cell_type": "code",
   "execution_count": 9,
   "id": "1bcde8e5-9f7b-47ba-987f-13f0b461446e",
   "metadata": {},
   "outputs": [
    {
     "name": "stdout",
     "output_type": "stream",
     "text": [
      "25.99 is <class 'float'>\n",
      "25 is <class 'int'>\n"
     ]
    }
   ],
   "source": [
    "price_str = '25.99'\n",
    "x = float(price_str)\n",
    "print(f'{x} is {type(x)}')\n",
    "y = int(x)\n",
    "print(f'{y} is {type(y)}')"
   ]
  },
  {
   "cell_type": "code",
   "execution_count": 10,
   "id": "6b8e085e-2ab6-4618-82fc-9c617d7099dd",
   "metadata": {},
   "outputs": [
    {
     "name": "stdout",
     "output_type": "stream",
     "text": [
      "10\n",
      "20\n",
      "30\n",
      "40\n"
     ]
    }
   ],
   "source": [
    "data = ['10', '20', '30', '40.5']\n",
    "for num in data : \n",
    "    int_data = int(float(num))\n",
    "    print(int_data)"
   ]
  },
  {
   "cell_type": "code",
   "execution_count": 11,
   "id": "d051e2fa-f3e6-4040-b59c-860cee42989f",
   "metadata": {},
   "outputs": [
    {
     "name": "stdout",
     "output_type": "stream",
     "text": [
      "True is <class 'str'>\n",
      "1 is <class 'int'>\n"
     ]
    }
   ],
   "source": [
    "is_sunny = True\n",
    "str_sunny = str(is_sunny)\n",
    "print(f'{str_sunny} is {type(str_sunny)}')\n",
    "int_sunny = int(is_sunny)\n",
    "print(f'{int_sunny} is {type(int_sunny)}')"
   ]
  },
  {
   "cell_type": "code",
   "execution_count": 12,
   "id": "e0af8b5a-9e9c-411f-8d55-efc2115d9cf7",
   "metadata": {},
   "outputs": [
    {
     "name": "stdout",
     "output_type": "stream",
     "text": [
      "a = 10\n",
      "b = 5\n"
     ]
    }
   ],
   "source": [
    "a, b = 5, 10\n",
    "a = b\n",
    "print('a =', a)\n",
    "a, b = 5, 10\n",
    "b = a\n",
    "print('b =', b)"
   ]
  },
  {
   "cell_type": "code",
   "execution_count": 13,
   "id": "1f059a0a-5b6a-4bae-b7ae-693ffbb3e0f2",
   "metadata": {},
   "outputs": [
    {
     "name": "stdout",
     "output_type": "stream",
     "text": [
      "GlobalSoft\n"
     ]
    }
   ],
   "source": [
    "company_name = 'TechCorp'\n",
    "def print_company_info() :\n",
    "    #print(company_name)\n",
    "    company_name = 'GlobalSoft'\n",
    "    print(company_name)\n",
    "\n",
    "print_company_info()"
   ]
  },
  {
   "cell_type": "code",
   "execution_count": 14,
   "id": "aab66906-59f0-4a19-a80d-101a5642b0cb",
   "metadata": {},
   "outputs": [
    {
     "name": "stdin",
     "output_type": "stream",
     "text": [
      "Amount to deposit : 200\n"
     ]
    },
    {
     "name": "stdout",
     "output_type": "stream",
     "text": [
      "Your new balance is $1200\n"
     ]
    },
    {
     "name": "stdin",
     "output_type": "stream",
     "text": [
      "Amount to withdraw : 50\n"
     ]
    },
    {
     "name": "stdout",
     "output_type": "stream",
     "text": [
      "Your new balance is $1150\n"
     ]
    }
   ],
   "source": [
    "balance = 1000\n",
    "d = int(input('Amount to deposit :'))\n",
    "balance = balance + d\n",
    "print(f'Your new balance is ${balance}')\n",
    "w = int(input('Amount to withdraw :'))\n",
    "balance = balance - w\n",
    "print(f'Your new balance is ${balance}')"
   ]
  },
  {
   "cell_type": "code",
   "execution_count": 15,
   "id": "ed3a2bbe-f593-4555-ac29-39c50d462b60",
   "metadata": {},
   "outputs": [
    {
     "name": "stdin",
     "output_type": "stream",
     "text": [
      "Enter a number ('q' to quit) : 2\n"
     ]
    },
    {
     "name": "stdout",
     "output_type": "stream",
     "text": [
      "2\n"
     ]
    },
    {
     "name": "stdin",
     "output_type": "stream",
     "text": [
      "Enter a number ('q' to quit) : 6\n"
     ]
    },
    {
     "name": "stdout",
     "output_type": "stream",
     "text": [
      "6\n"
     ]
    },
    {
     "name": "stdin",
     "output_type": "stream",
     "text": [
      "Enter a number ('q' to quit) : 1\n"
     ]
    },
    {
     "name": "stdout",
     "output_type": "stream",
     "text": [
      "1\n"
     ]
    },
    {
     "name": "stdin",
     "output_type": "stream",
     "text": [
      "Enter a number ('q' to quit) : q\n"
     ]
    },
    {
     "name": "stdout",
     "output_type": "stream",
     "text": [
      "Exiting program\n"
     ]
    }
   ],
   "source": [
    "while True:\n",
    "    n = input(\"Enter a number ('q' to quit) :\")\n",
    "    if n == 'q':\n",
    "        print('Exiting program')\n",
    "        break\n",
    "    else:\n",
    "        print(n)"
   ]
  },
  {
   "cell_type": "code",
   "execution_count": 16,
   "id": "cc000e9e-bb81-4a5f-8e2f-fcf8cc295bc6",
   "metadata": {},
   "outputs": [
    {
     "name": "stdout",
     "output_type": "stream",
     "text": [
      "'g' appears 2 times\n"
     ]
    }
   ],
   "source": [
    "my_word = 'programming'\n",
    "count = 0\n",
    "for letter in my_word:\n",
    "    if letter == 'g':\n",
    "        count += 1\n",
    "print(f\"'g' appears {count} times\")"
   ]
  },
  {
   "cell_type": "code",
   "execution_count": 17,
   "id": "bbc54f42-3bbb-42a4-970a-c9af8aa95e66",
   "metadata": {},
   "outputs": [
    {
     "name": "stdout",
     "output_type": "stream",
     "text": [
      "12\n"
     ]
    }
   ],
   "source": [
    "numbers = [1,5,8,12,15,20]\n",
    "for num in numbers:\n",
    "    if num > 10:\n",
    "        print(num)\n",
    "        break"
   ]
  },
  {
   "cell_type": "code",
   "execution_count": 18,
   "id": "b5340778-b808-486f-9135-14d76950f874",
   "metadata": {},
   "outputs": [
    {
     "name": "stdout",
     "output_type": "stream",
     "text": [
      "1\n",
      "2\n",
      "3\n",
      "4\n",
      "\n",
      "6\n",
      "7\n",
      "8\n",
      "9\n",
      "10\n"
     ]
    }
   ],
   "source": [
    "for num in range(1,11):\n",
    "    if num == 5:\n",
    "        print()\n",
    "        continue\n",
    "    print(num)"
   ]
  },
  {
   "cell_type": "code",
   "execution_count": 19,
   "id": "51c086e0-cb35-46ab-91dd-9d000857a105",
   "metadata": {},
   "outputs": [
    {
     "name": "stdout",
     "output_type": "stream",
     "text": [
      "*\n",
      "**\n",
      "***\n",
      "****\n",
      "*****\n"
     ]
    }
   ],
   "source": [
    "for i in range(1,6):\n",
    "    for j in range(i):\n",
    "        print(\"*\", end=\"\")\n",
    "    print()"
   ]
  },
  {
   "cell_type": "code",
   "execution_count": 20,
   "id": "59d50a39-93f9-4f65-ac1d-28d40cbf6233",
   "metadata": {},
   "outputs": [
    {
     "name": "stdout",
     "output_type": "stream",
     "text": [
      "*****\n",
      "****\n",
      "***\n",
      "**\n",
      "*\n"
     ]
    }
   ],
   "source": [
    "for i in range(5,0,-1):\n",
    "    for j in range(i):\n",
    "        print(\"*\", end=\"\")\n",
    "    print()"
   ]
  },
  {
   "cell_type": "code",
   "execution_count": 21,
   "id": "3ddb6f80-1803-42a6-9a9f-c91cd7d1442d",
   "metadata": {},
   "outputs": [
    {
     "name": "stdout",
     "output_type": "stream",
     "text": [
      "Original : [-2, -1, 0, 1, 2, 3]\n",
      "Aligned with indices : [0, 1, 2, 3, 4, 5]\n"
     ]
    }
   ],
   "source": [
    "vals = [-2,-1,0,1,2,3]\n",
    "print('Original :', vals)\n",
    "vals1 = []\n",
    "count = 0\n",
    "for num in vals:\n",
    "    vals1.append(num + 2)\n",
    "print('Aligned with indices :', vals1)"
   ]
  },
  {
   "cell_type": "code",
   "execution_count": 22,
   "id": "908c6efa-c208-4220-bb55-922200b53051",
   "metadata": {},
   "outputs": [
    {
     "name": "stdout",
     "output_type": "stream",
     "text": [
      "[2, 4, 6, 8, 10]\n",
      "[2, 4, 6, 8]\n"
     ]
    }
   ],
   "source": [
    "bruh = [2,4,6,8,10]\n",
    "print(bruh)\n",
    "bruh.pop()\n",
    "print(bruh)"
   ]
  },
  {
   "cell_type": "code",
   "execution_count": 23,
   "id": "2efc4afc-fed0-4fb4-a11f-bb9cb3037a3d",
   "metadata": {},
   "outputs": [
    {
     "name": "stdout",
     "output_type": "stream",
     "text": [
      "# of id's in list : 6\n",
      "# of id's in set : 4\n"
     ]
    }
   ],
   "source": [
    "user_ids = [101,105,102,105,103,101]\n",
    "print(f\"# of id's in list : {len(user_ids)}\")\n",
    "user_ids1 = set(user_ids)\n",
    "print(f\"# of id's in set : {len(user_ids1)}\")"
   ]
  },
  {
   "cell_type": "code",
   "execution_count": 52,
   "id": "4178d035-f1ed-4554-839f-c6bdd7904b06",
   "metadata": {},
   "outputs": [
    {
     "name": "stdout",
     "output_type": "stream",
     "text": [
      "['Statistics', 'Calculus', 'AI', 'Linguistics']\n",
      "['Statistics', 'Calculus', 'AI', 'Linguistics', 'Data Science']\n",
      "['Statistics', 'Machine Learning', 'Calculus', 'AI', 'Linguistics', 'Data Science']\n",
      "\n",
      "Final list : ['Statistics', 'Machine Learning', 'Calculus', 'AI', 'Linguistics']\n"
     ]
    }
   ],
   "source": [
    "my_courses = ['Statistics','Calculus','AI','Linguistics']\n",
    "print(my_courses)\n",
    "my_courses.append('Data Science')\n",
    "print(my_courses)\n",
    "my_courses.insert(1,'Machine Learning')\n",
    "print(my_courses)\n",
    "my_courses.remove('Data Science')\n",
    "print()\n",
    "print('Final list :', my_courses)"
   ]
  },
  {
   "cell_type": "code",
   "execution_count": 88,
   "id": "afd5ff68-c9ee-46dc-b1bb-c9c8171b3c0c",
   "metadata": {},
   "outputs": [
    {
     "name": "stdout",
     "output_type": "stream",
     "text": [
      "Bob's third subject grade : 95\n",
      "Alice's average score : 84.33\n",
      "Bob's average score : 91.67\n"
     ]
    }
   ],
   "source": [
    "student_grades = [['Alice',85,90,78], ['Bob',92,88,95]]\n",
    "print(f\"Bob's third subject grade : {student_grades[1][3]}\")\n",
    "for student in student_grades:\n",
    "    name = student[0]\n",
    "    grades = student[1:4]\n",
    "    counter = 0\n",
    "    for num in grades:\n",
    "        counter += num\n",
    "        avg_score = counter / len(grades)\n",
    "    print(f\"{name}'s average score : {avg_score:.2f}\")"
   ]
  },
  {
   "cell_type": "code",
   "execution_count": 92,
   "id": "8d6d45ac-641e-4e27-9faf-23b4cd732b3f",
   "metadata": {},
   "outputs": [
    {
     "name": "stdout",
     "output_type": "stream",
     "text": [
      "[20, 25, 30]\n"
     ]
    }
   ],
   "source": [
    "nums = [10,15,20,25,30]\n",
    "high_nums = [n for n in nums if n > 18]\n",
    "print(high_nums)"
   ]
  },
  {
   "cell_type": "code",
   "execution_count": 95,
   "id": "8c0decf7-31c2-4099-bc85-6aa516fe7558",
   "metadata": {},
   "outputs": [
    {
     "name": "stdout",
     "output_type": "stream",
     "text": [
      "[5, 6, 4, 5]\n"
     ]
    }
   ],
   "source": [
    "words = ['apple','banana','kiwi','grape']\n",
    "word_lengths = [len(fruit) for fruit in words]\n",
    "print(word_lengths)"
   ]
  },
  {
   "cell_type": "code",
   "execution_count": 99,
   "id": "f9d1c964-2c9d-4f23-9e74-10c97d165db3",
   "metadata": {},
   "outputs": [
    {
     "name": "stdout",
     "output_type": "stream",
     "text": [
      "[1, 2, 3, 4, 5, 6]\n"
     ]
    }
   ],
   "source": [
    "nested_numbers = [[1,2,3], [4,5], [6]]\n",
    "flattened = [item for sublist in nested_numbers for item in sublist]\n",
    "print(flattened)"
   ]
  },
  {
   "cell_type": "code",
   "execution_count": 108,
   "id": "0153d059-20d8-4e51-8ad1-88c86b06aab5",
   "metadata": {},
   "outputs": [
    {
     "name": "stdout",
     "output_type": "stream",
     "text": [
      "red\n",
      "yellow\n",
      "['green', 'blue', 'yellow']\n",
      "['blue', 'yellow', 'purple']\n"
     ]
    }
   ],
   "source": [
    "colors = ['red','green','blue','yellow','purple']\n",
    "print(colors[0])\n",
    "print(colors[3])\n",
    "print(colors[1:4])\n",
    "print(colors[2:])"
   ]
  },
  {
   "cell_type": "code",
   "execution_count": 123,
   "id": "bb95c28f-1349-43c7-b8c8-8f0ce27737f5",
   "metadata": {},
   "outputs": [
    {
     "name": "stdout",
     "output_type": "stream",
     "text": [
      "n\n",
      "IsFun\n",
      "rgamnIFn\n",
      "nuFsIgnimmargorP\n",
      "[1, 4, 7, 10]\n"
     ]
    }
   ],
   "source": [
    "text = 'ProgrammingIsFun'\n",
    "print(text[-1])\n",
    "print(text[-5:])\n",
    "print(text[1::2])\n",
    "print(text[::-1])\n",
    "numbers_for_step = [1,2,3,4,5,6,7,8,9,10]\n",
    "print(numbers_for_step[0::3])"
   ]
  },
  {
   "cell_type": "code",
   "execution_count": 52,
   "id": "26b7e480-c07f-4529-83e6-ffd09a7838a1",
   "metadata": {},
   "outputs": [
    {
     "name": "stdin",
     "output_type": "stream",
     "text": [
      "Enter a string : hello\n"
     ]
    },
    {
     "name": "stdout",
     "output_type": "stream",
     "text": [
      "False\n"
     ]
    },
    {
     "name": "stdin",
     "output_type": "stream",
     "text": [
      "Enter a string : madam\n"
     ]
    },
    {
     "name": "stdout",
     "output_type": "stream",
     "text": [
      "True\n"
     ]
    },
    {
     "name": "stdin",
     "output_type": "stream",
     "text": [
      "Enter a string : bruh\n"
     ]
    },
    {
     "name": "stdout",
     "output_type": "stream",
     "text": [
      "False\n"
     ]
    },
    {
     "name": "stdin",
     "output_type": "stream",
     "text": [
      "Enter a string : radar\n"
     ]
    },
    {
     "name": "stdout",
     "output_type": "stream",
     "text": [
      "True\n"
     ]
    },
    {
     "name": "stdin",
     "output_type": "stream",
     "text": [
      "Enter a string : q\n"
     ]
    },
    {
     "name": "stdout",
     "output_type": "stream",
     "text": [
      "True\n",
      "EXITING PROGRAM\n"
     ]
    }
   ],
   "source": [
    "# check palindrome\n",
    "\n",
    "while True:\n",
    "    s = input('Enter a string :')\n",
    "    print(s == s[::-1])\n",
    "    if s == 'q':\n",
    "        print('EXITING PROGRAM')\n",
    "        break"
   ]
  },
  {
   "cell_type": "code",
   "execution_count": 3,
   "id": "2ca527f6-ca40-4746-b200-efb9b19e25a4",
   "metadata": {},
   "outputs": [
    {
     "name": "stdin",
     "output_type": "stream",
     "text": [
      " bruh\n",
      " hrub\n"
     ]
    },
    {
     "name": "stdout",
     "output_type": "stream",
     "text": [
      "True\n"
     ]
    }
   ],
   "source": [
    "word = input('')\n",
    "word1 = input('')\n",
    "if len(word) != len(word1):\n",
    "    print(False)\n",
    "else:\n",
    "    print(sorted(word) == sorted(word1))"
   ]
  },
  {
   "cell_type": "code",
   "execution_count": 26,
   "id": "6f820bc3-6458-4f26-aa41-b3ffe15cb268",
   "metadata": {},
   "outputs": [
    {
     "name": "stdout",
     "output_type": "stream",
     "text": [
      "True\n",
      "True\n",
      "False\n"
     ]
    }
   ],
   "source": [
    "def check_perm(s1 : str, s2 : str):\n",
    "    if len(s1) != len(s2):\n",
    "        print(False)\n",
    "    else:\n",
    "        print(sorted(s1) == sorted(s2))\n",
    "\n",
    "check_perm('test','ttes')\n",
    "check_perm('remote', 'teerom')\n",
    "check_perm('python', 'ythops')"
   ]
  },
  {
   "cell_type": "code",
   "execution_count": 7,
   "id": "ef109446-1760-4d08-a085-6b5d7b1117d5",
   "metadata": {},
   "outputs": [
    {
     "data": {
      "text/plain": [
       "'b:5 r:4 u:1 h:2 '"
      ]
     },
     "execution_count": 7,
     "metadata": {},
     "output_type": "execute_result"
    }
   ],
   "source": [
    "def comp_str(s : str):\n",
    "    result = []\n",
    "    count = 1\n",
    "    for i in range(1,len(s)+1):\n",
    "        if i < len(s) and s[i] == s[i-1]:\n",
    "            count += 1\n",
    "        else:\n",
    "            result.append(f\"{s[i-1]}:{count} \")\n",
    "            count = 1\n",
    "    return ''.join(result)\n",
    "\n",
    "comp_str('bbbbbrrrruhh')"
   ]
  },
  {
   "cell_type": "code",
   "execution_count": 12,
   "id": "e85db03a-ce86-4c37-a24a-afdfa3b41488",
   "metadata": {},
   "outputs": [
    {
     "data": {
      "text/plain": [
       "'h'"
      ]
     },
     "execution_count": 12,
     "metadata": {},
     "output_type": "execute_result"
    }
   ],
   "source": [
    "def highest_occuring_char(s):\n",
    "    freq = {}\n",
    "    max_count = 0\n",
    "    max_char = None\n",
    "    for char in s:\n",
    "        freq[char] = freq.get(char, 0) + 1\n",
    "        if freq[char] > max_count:\n",
    "            max_count = freq[char]\n",
    "            max_char = char\n",
    "    \n",
    "    return max_char\n",
    "\n",
    "highest_occuring_char('bruhhhh that is crazyy')"
   ]
  },
  {
   "cell_type": "code",
   "execution_count": 23,
   "id": "2332b0a5-3ea4-4f4c-afb9-10ce0c372a05",
   "metadata": {},
   "outputs": [
    {
     "name": "stdout",
     "output_type": "stream",
     "text": [
      "1\n",
      "5\n",
      "13\n"
     ]
    }
   ],
   "source": [
    "def fibonacci(n):\n",
    "    a,b = 0,1\n",
    "    for i in range(n):\n",
    "        a,b = b,a+b\n",
    "    return a\n",
    "\n",
    "print(fibonacci(1))\n",
    "print(fibonacci(5))\n",
    "print(fibonacci(7))"
   ]
  },
  {
   "cell_type": "code",
   "execution_count": 19,
   "id": "a7f70357-0d7b-425a-b533-8aed7f9b023e",
   "metadata": {},
   "outputs": [
    {
     "name": "stdout",
     "output_type": "stream",
     "text": [
      "helo\n",
      "bruhski\n"
     ]
    }
   ],
   "source": [
    "def rem_cons_dup(s):\n",
    "    list_s = list(s)\n",
    "    i = 0\n",
    "    while i < len(list_s)-1:\n",
    "        if list_s[i] == list_s[i+1]:\n",
    "            list_s.pop(i+1)\n",
    "        else:\n",
    "            i += 1\n",
    "    return ''.join(list_s)\n",
    "\n",
    "print(rem_cons_dup('hello'))\n",
    "print(rem_cons_dup('bruhhhhhskkki'))"
   ]
  },
  {
   "cell_type": "code",
   "execution_count": 63,
   "id": "e10c66a5-2f5a-4e93-ab25-e19967d32a68",
   "metadata": {},
   "outputs": [
    {
     "name": "stdout",
     "output_type": "stream",
     "text": [
      "abc def ghi\n"
     ]
    },
    {
     "data": {
      "text/plain": [
       "['ghi', 'def', 'abc']"
      ]
     },
     "execution_count": 63,
     "metadata": {},
     "output_type": "execute_result"
    }
   ],
   "source": [
    "# used my own brain to come up with this\n",
    "# inefficient due to spaces not being included when joining into a string, hence leaving it as a list\n",
    "\n",
    "def rev_spaced_words(s):\n",
    "    list_s = []\n",
    "    word = ''\n",
    "    for char in s:\n",
    "        if char != ' ':\n",
    "            word += char\n",
    "        else:\n",
    "            list_s.insert(0, word)\n",
    "            word = ''\n",
    "    if word:\n",
    "        list_s.insert(0, word)\n",
    "\n",
    "    print(s)\n",
    "    return list_s\n",
    "\n",
    "rev_spaced_words('abc def ghi')"
   ]
  },
  {
   "cell_type": "code",
   "execution_count": 79,
   "id": "421d0dd8-0482-4fcd-b9ff-39bfc7263cf2",
   "metadata": {},
   "outputs": [
    {
     "name": "stdout",
     "output_type": "stream",
     "text": [
      "abc def ghi\n"
     ]
    },
    {
     "data": {
      "text/plain": [
       "'ghi def abc'"
      ]
     },
     "execution_count": 79,
     "metadata": {},
     "output_type": "execute_result"
    }
   ],
   "source": [
    "def rev_spaced_words_easy(s):\n",
    "    print(s)\n",
    "    return ' '.join(s.split()[::-1])\n",
    "\n",
    "rev_spaced_words_easy('abc def ghi')"
   ]
  },
  {
   "cell_type": "code",
   "execution_count": 2,
   "id": "e38ee96e-cf6f-46e8-9384-db33db33a46a",
   "metadata": {},
   "outputs": [],
   "source": [
    "import os"
   ]
  },
  {
   "cell_type": "code",
   "execution_count": 3,
   "id": "a3919537-4225-4128-aa0a-fe7730bce012",
   "metadata": {},
   "outputs": [
    {
     "data": {
      "text/plain": [
       "<module 'os' from '/opt/anaconda3/lib/python3.13/os.py'>"
      ]
     },
     "execution_count": 3,
     "metadata": {},
     "output_type": "execute_result"
    }
   ],
   "source": [
    "os"
   ]
  },
  {
   "cell_type": "code",
   "execution_count": 4,
   "id": "7c0f7254-d7a1-4f77-b205-103ff16ae1cf",
   "metadata": {},
   "outputs": [
    {
     "data": {
      "text/plain": [
       "'/Users/harsh/Jupyter'"
      ]
     },
     "execution_count": 4,
     "metadata": {},
     "output_type": "execute_result"
    }
   ],
   "source": [
    "os.getcwd()"
   ]
  },
  {
   "cell_type": "code",
   "execution_count": 5,
   "id": "8df682bc-844a-4042-abf6-8168d3380f14",
   "metadata": {},
   "outputs": [
    {
     "data": {
      "text/plain": [
       "['leetcode.ipynb',\n",
       " 'sample01.txt',\n",
       " 'sample03.txt',\n",
       " 'Python_Fundamentals_Assignent_02_HarshGobbur.ipynb',\n",
       " 'anaconda_projects',\n",
       " 'sample02.txt',\n",
       " 'Python_Fundamentals_Assignment_01_HarshGobbur.ipynb',\n",
       " 'product_sales.csv',\n",
       " 'OSalg.ipynb',\n",
       " 'test1.py',\n",
       " 'example1.png',\n",
       " 'example3.png',\n",
       " 'example2.png',\n",
       " 'test2.py',\n",
       " 'practice.ipynb',\n",
       " '.ipynb_checkpoints',\n",
       " 'notes.ipynb']"
      ]
     },
     "execution_count": 5,
     "metadata": {},
     "output_type": "execute_result"
    }
   ],
   "source": [
    "os.listdir()"
   ]
  },
  {
   "cell_type": "code",
   "execution_count": 6,
   "id": "1ac08bc9-3885-48ae-a820-9818670ee648",
   "metadata": {},
   "outputs": [
    {
     "name": "stdout",
     "output_type": "stream",
     "text": [
      "[1, 0, 1, 1, 1, 0, 1]\n",
      "[1, 0, 0, 1, 0, 0, 0]\n"
     ]
    }
   ],
   "source": [
    "# binary conversion\n",
    "\n",
    "def bin_conv(x):\n",
    "    binary_x = []\n",
    "\n",
    "    while x > 0:\n",
    "        x_rem = x % 2\n",
    "        x = x // 2\n",
    "        binary_x.append(x_rem)\n",
    "\n",
    "    binary_x.reverse()\n",
    "    return binary_x\n",
    "\n",
    "print(bin_conv(93))\n",
    "print(bin_conv(72))"
   ]
  },
  {
   "cell_type": "code",
   "execution_count": 19,
   "id": "8e5b33cf-3223-40d0-b537-499901e9ca67",
   "metadata": {},
   "outputs": [
    {
     "name": "stdout",
     "output_type": "stream",
     "text": [
      "True\n",
      "True\n",
      "False\n"
     ]
    }
   ],
   "source": [
    "def checkAnagram(s1, s2):\n",
    "    freq = {}\n",
    "    \n",
    "    for ch1 in s1:\n",
    "        freq[ch1] = freq.get(ch1, 0) + 1\n",
    "    for ch2 in s2:\n",
    "        if ch2 in freq:\n",
    "            freq[ch2] -= 1\n",
    "        continue\n",
    "\n",
    "    for v in freq.values():\n",
    "        if v != 0:\n",
    "            return False\n",
    "    return True\n",
    "\n",
    "print(checkAnagram('evil', 'vile'))\n",
    "print(checkAnagram('listen', 'silent'))\n",
    "print(checkAnagram('bruh', 'herbs'))"
   ]
  },
  {
   "cell_type": "code",
   "execution_count": 38,
   "id": "9807f9b5-e72c-401a-bbf5-e78d8b5add4b",
   "metadata": {},
   "outputs": [
    {
     "name": "stdout",
     "output_type": "stream",
     "text": [
      "w\n",
      "e\n",
      "m\n",
      "None\n"
     ]
    }
   ],
   "source": [
    "def firstNonRepeat(s):\n",
    "    freq = {}\n",
    "\n",
    "    for ch in s:\n",
    "        freq[ch] = freq.get(ch, 0) + 1\n",
    "    for ch in s:\n",
    "        if freq[ch] == 1:\n",
    "            return ch\n",
    "    return None\n",
    "\n",
    "print(firstNonRepeat('swiss'))\n",
    "print(firstNonRepeat('racecar'))\n",
    "print(firstNonRepeat('mouse'))\n",
    "print(firstNonRepeat('aabbcc'))"
   ]
  },
  {
   "cell_type": "code",
   "execution_count": 53,
   "id": "7b3f1b22-fa7b-4daf-8d6b-5501a0b1db35",
   "metadata": {},
   "outputs": [
    {
     "name": "stdout",
     "output_type": "stream",
     "text": [
      "True\n",
      "False\n",
      "True\n",
      "There are no parentheses\n"
     ]
    }
   ],
   "source": [
    "def validPar(s):\n",
    "    freq = {}\n",
    "\n",
    "    for ch in s:\n",
    "        freq[ch] = freq.get(ch, 0) + 1\n",
    "\n",
    "    if '(' in freq or ')' in freq:\n",
    "        return freq['('] == freq[')']\n",
    "    return 'There are no parentheses'\n",
    "\n",
    "print(validPar('(())'))\n",
    "print(validPar('(()(()'))\n",
    "print(validPar('his name is Harshit (he goes by Harsh)'))\n",
    "print(validPar('how are you?'))"
   ]
  },
  {
   "cell_type": "code",
   "execution_count": 7,
   "id": "29ef37c8-3c96-49a3-a450-c82b9ab7705a",
   "metadata": {},
   "outputs": [
    {
     "name": "stdout",
     "output_type": "stream",
     "text": [
      "True\n",
      "False\n",
      "False\n"
     ]
    }
   ],
   "source": [
    "def checkRotation(s1, s2):\n",
    "    ult_s1 = s1 + s1\n",
    "    \n",
    "    if len(s1) != len(s2):\n",
    "        return False\n",
    "    return s2 in ult_s1\n",
    "\n",
    "print(checkRotation('hello', 'lohel'))\n",
    "print(checkRotation('bruh', 'brhu'))\n",
    "print(checkRotation('bottle', 'bot'))"
   ]
  },
  {
   "cell_type": "code",
   "execution_count": 25,
   "id": "89e07242-8268-4f52-98a4-da039aa7875a",
   "metadata": {},
   "outputs": [
    {
     "name": "stdout",
     "output_type": "stream",
     "text": [
      "Number of vowels : 4 \n",
      "Number of consonants : 7\n"
     ]
    }
   ],
   "source": [
    "def countVowCons(s):\n",
    "    vowels = 'aeiou'\n",
    "    freq_vow = {}\n",
    "    freq_cons = {}\n",
    "    \n",
    "    for ch in s:\n",
    "        if ch in vowels:\n",
    "            freq_vow[ch] = freq_vow.get(ch, 0) + 1\n",
    "        elif ch not in vowels:\n",
    "            freq_cons[ch] = freq_cons.get(ch, 0) + 1\n",
    "\n",
    "    num_vow = sum(freq_vow.values())\n",
    "    num_cons = sum(freq_cons.values())\n",
    "\n",
    "    return f'Number of vowels : {num_vow} \\nNumber of consonants : {num_cons}'\n",
    "\n",
    "print(countVowCons('waterbottle'))"
   ]
  },
  {
   "cell_type": "code",
   "execution_count": 40,
   "id": "9bbbfa9b-6ade-4993-b9a2-70acda1cdce1",
   "metadata": {},
   "outputs": [
    {
     "name": "stdout",
     "output_type": "stream",
     "text": [
      "True\n",
      "True\n",
      "False\n"
     ]
    }
   ],
   "source": [
    "def checkSubSeq(s1, s2):\n",
    "    j = 0\n",
    "\n",
    "    for ch in s1:\n",
    "        if j < len(s2) and ch == s2[j]:\n",
    "            j += 1\n",
    "    return j == len(s2)\n",
    "\n",
    "print(checkSubSeq('hello', 'ho'))\n",
    "print(checkSubSeq('mathematics', 'memic'))\n",
    "print(checkSubSeq('flower', 'ferl'))"
   ]
  }
 ],
 "metadata": {
  "kernelspec": {
   "display_name": "Python [conda env:base] *",
   "language": "python",
   "name": "conda-base-py"
  },
  "language_info": {
   "codemirror_mode": {
    "name": "ipython",
    "version": 3
   },
   "file_extension": ".py",
   "mimetype": "text/x-python",
   "name": "python",
   "nbconvert_exporter": "python",
   "pygments_lexer": "ipython3",
   "version": "3.13.5"
  }
 },
 "nbformat": 4,
 "nbformat_minor": 5
}
