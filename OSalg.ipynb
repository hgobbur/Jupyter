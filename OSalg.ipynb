{
 "cells": [
  {
   "cell_type": "code",
   "execution_count": 14,
   "id": "ca380006-a63c-4073-b74a-b21e3d00b8e3",
   "metadata": {},
   "outputs": [],
   "source": [
    "import os\n",
    "import string"
   ]
  },
  {
   "cell_type": "code",
   "execution_count": 15,
   "id": "8e1cc54a-ce6a-4d5e-881f-573dee150278",
   "metadata": {},
   "outputs": [
    {
     "data": {
      "text/plain": [
       "<module 'os' from '/opt/anaconda3/lib/python3.13/os.py'>"
      ]
     },
     "execution_count": 15,
     "metadata": {},
     "output_type": "execute_result"
    }
   ],
   "source": [
    "os"
   ]
  },
  {
   "cell_type": "code",
   "execution_count": 16,
   "id": "f164bdec-9279-4576-a617-c5eb881e3d31",
   "metadata": {},
   "outputs": [
    {
     "data": {
      "text/plain": [
       "['leetcode.ipynb',\n",
       " 'sample01.txt',\n",
       " 'sample03.txt',\n",
       " 'Python_Fundamentals_Assignent_02_HarshGobbur.ipynb',\n",
       " 'anaconda_projects',\n",
       " 'sample02.txt',\n",
       " 'Python_Fundamentals_Assignment_01_HarshGobbur.ipynb',\n",
       " 'product_sales.csv',\n",
       " 'OSalg.ipynb',\n",
       " 'test1.py',\n",
       " 'example1.png',\n",
       " 'example3.png',\n",
       " 'example2.png',\n",
       " 'test2.py',\n",
       " 'practice.ipynb',\n",
       " '.ipynb_checkpoints',\n",
       " 'notes.ipynb']"
      ]
     },
     "execution_count": 16,
     "metadata": {},
     "output_type": "execute_result"
    }
   ],
   "source": [
    "os.listdir()"
   ]
  },
  {
   "cell_type": "code",
   "execution_count": 17,
   "id": "a92cb57e-0b48-44ac-a38a-93b589e9522a",
   "metadata": {},
   "outputs": [
    {
     "data": {
      "text/plain": [
       "'/Users/harsh/Jupyter'"
      ]
     },
     "execution_count": 17,
     "metadata": {},
     "output_type": "execute_result"
    }
   ],
   "source": [
    "os.getcwd()"
   ]
  },
  {
   "cell_type": "code",
   "execution_count": 18,
   "id": "6c90c987-5ef0-4e6d-9867-c4067a637246",
   "metadata": {},
   "outputs": [
    {
     "name": "stdout",
     "output_type": "stream",
     "text": [
      "leetcode.ipynb\n",
      "sample01.txt\n",
      "sample03.txt\n",
      "Python_Fundamentals_Assignent_02_HarshGobbur.ipynb\n",
      "anaconda_projects\n",
      "sample02.txt\n",
      "Python_Fundamentals_Assignment_01_HarshGobbur.ipynb\n",
      "product_sales.csv\n",
      "OSalg.ipynb\n",
      "test1.py\n",
      "example1.png\n",
      "example3.png\n",
      "example2.png\n",
      "test2.py\n",
      "practice.ipynb\n",
      ".ipynb_checkpoints\n",
      "notes.ipynb\n",
      "\n",
      "File types : {'ipynb': 6, 'txt': 3, 'csv': 1, 'py': 2, 'png': 3, 'ipynb_checkpoints': 1}\n",
      "Folders : anaconda_projects\n"
     ]
    }
   ],
   "source": [
    "import os\n",
    "\n",
    "target = '/Users/harsh/Jupyter'\n",
    "if os.getcwd() != target:\n",
    "    os.chdir(target)      # switches to correct directory\n",
    "\n",
    "os_list = os.listdir()\n",
    "os_dict = {}\n",
    "\n",
    "for file in os_list:\n",
    "    print(file)\n",
    "    if '.' in file:\n",
    "        os_file = file.split('.')\n",
    "        ext = os_file[1]\n",
    "        if ext in os_dict:\n",
    "            os_dict[ext] += 1\n",
    "        else:\n",
    "            os_dict[ext] = 1\n",
    "    else:\n",
    "        extra = file\n",
    "\n",
    "print()\n",
    "print(f'File types : {os_dict}')\n",
    "print(f'Folders : {extra}')"
   ]
  },
  {
   "cell_type": "code",
   "execution_count": null,
   "id": "d6fdb882-190c-4f0a-92e0-51953f8724b4",
   "metadata": {},
   "outputs": [],
   "source": []
  }
 ],
 "metadata": {
  "kernelspec": {
   "display_name": "Python [conda env:base] *",
   "language": "python",
   "name": "conda-base-py"
  },
  "language_info": {
   "codemirror_mode": {
    "name": "ipython",
    "version": 3
   },
   "file_extension": ".py",
   "mimetype": "text/x-python",
   "name": "python",
   "nbconvert_exporter": "python",
   "pygments_lexer": "ipython3",
   "version": "3.13.5"
  }
 },
 "nbformat": 4,
 "nbformat_minor": 5
}
